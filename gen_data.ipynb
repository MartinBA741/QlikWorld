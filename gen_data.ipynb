{
 "cells": [
  {
   "cell_type": "code",
   "execution_count": 1,
   "metadata": {},
   "outputs": [],
   "source": [
    "import numpy as np\n",
    "import pandas as pd\n",
    "from datetime import timedelta\n",
    "import matplotlib.pyplot as plt\n",
    "import random\n",
    "\n",
    "random.seed(741)"
   ]
  },
  {
   "cell_type": "code",
   "execution_count": 2,
   "metadata": {},
   "outputs": [],
   "source": [
    "cases = pd.read_csv(r'C:\\Users\\MartinBirkAndreasen\\Desktop\\Jazz\\QlikWorld\\subscription\\original_raw\\customer_cases.csv', index_col=0)\n",
    "product = pd.read_csv(r'C:\\Users\\MartinBirkAndreasen\\Desktop\\Jazz\\QlikWorld\\subscription\\original_raw\\customer_product.csv', index_col=0)\n",
    "dim_customer = pd.read_csv(r'C:\\Users\\MartinBirkAndreasen\\Desktop\\Jazz\\QlikWorld\\subscription\\original_raw\\customer_info.csv', index_col=0)"
   ]
  },
  {
   "cell_type": "markdown",
   "metadata": {},
   "source": [
    "# Generate more users:\n",
    "- Generate customers in customer_cases\n",
    "- Add the new customers to dim_customer and generate age, gender, \n",
    "- Add customer to products - Add created date. + Generate new cancelation month (after created date)\n"
   ]
  },
  {
   "cell_type": "code",
   "execution_count": 3,
   "metadata": {},
   "outputs": [],
   "source": [
    "def add_random_days(date, t_0=60, t_1=120):\n",
    "    if date.month > 7:\n",
    "         new_date = date\n",
    "    \n",
    "    else:\n",
    "        n = np.random.uniform(t_0,t_1)\n",
    "        new_date = date + timedelta(days=n)\n",
    "\n",
    "    return new_date\n"
   ]
  },
  {
   "cell_type": "code",
   "execution_count": 74,
   "metadata": {},
   "outputs": [],
   "source": [
    "from random import randrange\n",
    "from datetime import timedelta\n",
    "\n",
    "def random_date(start, end):\n",
    "    \"\"\"\n",
    "    This function will return a random datetime between two datetime \n",
    "    objects.\n",
    "    \"\"\"\n",
    "    delta = end - start\n",
    "    int_delta = (delta.days * 24 * 60 * 60) + delta.seconds\n",
    "    random_second = randrange(int_delta)\n",
    "    return start + timedelta(seconds=random_second)"
   ]
  },
  {
   "cell_type": "code",
   "execution_count": 85,
   "metadata": {},
   "outputs": [
    {
     "data": {
      "text/plain": [
       "Timestamp('2019-06-19 05:19:50')"
      ]
     },
     "execution_count": 85,
     "metadata": {},
     "output_type": "execute_result"
    }
   ],
   "source": [
    "start_date = pd.to_datetime('2017-01-01')\n",
    "end_date = pd.to_datetime('2022-01-01')\n",
    "\n",
    "random_date(start_date, end_date)"
   ]
  },
  {
   "cell_type": "code",
   "execution_count": 134,
   "metadata": {},
   "outputs": [
    {
     "data": {
      "text/html": [
       "<div>\n",
       "<style scoped>\n",
       "    .dataframe tbody tr th:only-of-type {\n",
       "        vertical-align: middle;\n",
       "    }\n",
       "\n",
       "    .dataframe tbody tr th {\n",
       "        vertical-align: top;\n",
       "    }\n",
       "\n",
       "    .dataframe thead th {\n",
       "        text-align: right;\n",
       "    }\n",
       "</style>\n",
       "<table border=\"1\" class=\"dataframe\">\n",
       "  <thead>\n",
       "    <tr style=\"text-align: right;\">\n",
       "      <th></th>\n",
       "      <th>case_id</th>\n",
       "      <th>date_time</th>\n",
       "      <th>customer_id</th>\n",
       "      <th>channel</th>\n",
       "      <th>reason</th>\n",
       "    </tr>\n",
       "  </thead>\n",
       "  <tbody>\n",
       "    <tr>\n",
       "      <th>0</th>\n",
       "      <td>CC330613</td>\n",
       "      <td>2018-04-14 00:17:39.000000</td>\n",
       "      <td>C511380</td>\n",
       "      <td>phone</td>\n",
       "      <td>support</td>\n",
       "    </tr>\n",
       "    <tr>\n",
       "      <th>1</th>\n",
       "      <td>CC330614</td>\n",
       "      <td>2021-09-16 13:18:44.000000</td>\n",
       "      <td>C511381</td>\n",
       "      <td>phone</td>\n",
       "      <td>signup</td>\n",
       "    </tr>\n",
       "    <tr>\n",
       "      <th>2</th>\n",
       "      <td>CC330615</td>\n",
       "      <td>2020-09-05 12:13:42.000000</td>\n",
       "      <td>C511382</td>\n",
       "      <td>phone</td>\n",
       "      <td>support</td>\n",
       "    </tr>\n",
       "    <tr>\n",
       "      <th>3</th>\n",
       "      <td>CC330616</td>\n",
       "      <td>2021-11-25 23:57:32.007846</td>\n",
       "      <td>C511383</td>\n",
       "      <td>phone</td>\n",
       "      <td>signup</td>\n",
       "    </tr>\n",
       "    <tr>\n",
       "      <th>4</th>\n",
       "      <td>CC330617</td>\n",
       "      <td>2018-11-23 21:48:28.000000</td>\n",
       "      <td>C511384</td>\n",
       "      <td>phone</td>\n",
       "      <td>signup</td>\n",
       "    </tr>\n",
       "    <tr>\n",
       "      <th>...</th>\n",
       "      <td>...</td>\n",
       "      <td>...</td>\n",
       "      <td>...</td>\n",
       "      <td>...</td>\n",
       "      <td>...</td>\n",
       "    </tr>\n",
       "    <tr>\n",
       "      <th>999995</th>\n",
       "      <td>CC1330608</td>\n",
       "      <td>2020-11-28 14:19:51.967062</td>\n",
       "      <td>C1511375</td>\n",
       "      <td>phone</td>\n",
       "      <td>support</td>\n",
       "    </tr>\n",
       "    <tr>\n",
       "      <th>999996</th>\n",
       "      <td>CC1330609</td>\n",
       "      <td>2021-08-03 16:50:19.000000</td>\n",
       "      <td>C1511376</td>\n",
       "      <td>phone</td>\n",
       "      <td>support</td>\n",
       "    </tr>\n",
       "    <tr>\n",
       "      <th>999997</th>\n",
       "      <td>CC1330610</td>\n",
       "      <td>2017-05-17 09:43:13.000000</td>\n",
       "      <td>C1511377</td>\n",
       "      <td>email</td>\n",
       "      <td>signup</td>\n",
       "    </tr>\n",
       "    <tr>\n",
       "      <th>999998</th>\n",
       "      <td>CC1330611</td>\n",
       "      <td>2018-07-17 00:29:29.100129</td>\n",
       "      <td>C1511378</td>\n",
       "      <td>phone</td>\n",
       "      <td>support</td>\n",
       "    </tr>\n",
       "    <tr>\n",
       "      <th>999999</th>\n",
       "      <td>CC1330612</td>\n",
       "      <td>2021-11-20 13:49:55.000000</td>\n",
       "      <td>C1511379</td>\n",
       "      <td>phone</td>\n",
       "      <td>support</td>\n",
       "    </tr>\n",
       "  </tbody>\n",
       "</table>\n",
       "<p>1000000 rows × 5 columns</p>\n",
       "</div>"
      ],
      "text/plain": [
       "          case_id                  date_time customer_id channel   reason\n",
       "0        CC330613 2018-04-14 00:17:39.000000     C511380   phone  support\n",
       "1        CC330614 2021-09-16 13:18:44.000000     C511381   phone   signup\n",
       "2        CC330615 2020-09-05 12:13:42.000000     C511382   phone  support\n",
       "3        CC330616 2021-11-25 23:57:32.007846     C511383   phone   signup\n",
       "4        CC330617 2018-11-23 21:48:28.000000     C511384   phone   signup\n",
       "...           ...                        ...         ...     ...      ...\n",
       "999995  CC1330608 2020-11-28 14:19:51.967062    C1511375   phone  support\n",
       "999996  CC1330609 2021-08-03 16:50:19.000000    C1511376   phone  support\n",
       "999997  CC1330610 2017-05-17 09:43:13.000000    C1511377   email   signup\n",
       "999998  CC1330611 2018-07-17 00:29:29.100129    C1511378   phone  support\n",
       "999999  CC1330612 2021-11-20 13:49:55.000000    C1511379   phone  support\n",
       "\n",
       "[1000000 rows x 5 columns]"
      ]
     },
     "execution_count": 134,
     "metadata": {},
     "output_type": "execute_result"
    }
   ],
   "source": [
    "sample_size = 1000000\n",
    "\n",
    "gen_cases = pd.DataFrame({\n",
    "    'case_id' :  np.array(pd.Series(np.repeat(\"CC\", sample_size)) + pd.Series(np.arange(330613, 330613+sample_size)).astype(str)),\n",
    "    'date_time' : cases['date_time'].sample(sample_size, replace = True, random_state=741).to_numpy(),\n",
    "    'customer_id' : np.array(pd.Series(np.repeat(\"C\", sample_size)) + pd.Series(np.arange(511380, 511380+sample_size)).astype(str)),\n",
    "    'channel' : cases['channel'].sample(sample_size, replace = True).to_numpy(),\n",
    "    'reason' : cases['reason'].sample(sample_size, replace = True).to_numpy(),\n",
    "    })\n",
    "\n",
    "\n",
    "gen_cases['date_time'] = pd.to_datetime(gen_cases['date_time']).apply(lambda x: add_random_days(x, t_0=10, t_1=365*3))\n",
    "\n",
    "late_lst = gen_cases[(gen_cases['date_time'] > pd.to_datetime('2021-12-12'))].index\n",
    "\n",
    "gen_cases.iloc[late_lst, 1] = gen_cases.iloc[late_lst, 1].apply(lambda x: random_date(start_date, end_date)).copy()\n",
    "\n",
    "gen_cases"
   ]
  },
  {
   "cell_type": "code",
   "execution_count": 143,
   "metadata": {},
   "outputs": [
    {
     "data": {
      "image/png": "[encoded data removed]",
      "text/plain": [
       "<Figure size 432x288 with 1 Axes>"
      ]
     },
     "metadata": {
      "needs_background": "light"
     },
     "output_type": "display_data"
    }
   ],
   "source": [
    "plt.hist(gen_cases['date_time'].dt.month)\n",
    "plt.show()"
   ]
  },
  {
   "cell_type": "code",
   "execution_count": 144,
   "metadata": {},
   "outputs": [
    {
     "data": {
      "text/html": [
       "<div>\n",
       "<style scoped>\n",
       "    .dataframe tbody tr th:only-of-type {\n",
       "        vertical-align: middle;\n",
       "    }\n",
       "\n",
       "    .dataframe tbody tr th {\n",
       "        vertical-align: top;\n",
       "    }\n",
       "\n",
       "    .dataframe thead th {\n",
       "        text-align: right;\n",
       "    }\n",
       "</style>\n",
       "<table border=\"1\" class=\"dataframe\">\n",
       "  <thead>\n",
       "    <tr style=\"text-align: right;\">\n",
       "      <th></th>\n",
       "      <th>customer_id</th>\n",
       "      <th>age</th>\n",
       "      <th>gender</th>\n",
       "    </tr>\n",
       "  </thead>\n",
       "  <tbody>\n",
       "    <tr>\n",
       "      <th>0</th>\n",
       "      <td>C511380</td>\n",
       "      <td>68</td>\n",
       "      <td>male</td>\n",
       "    </tr>\n",
       "    <tr>\n",
       "      <th>1</th>\n",
       "      <td>C511381</td>\n",
       "      <td>57</td>\n",
       "      <td>male</td>\n",
       "    </tr>\n",
       "    <tr>\n",
       "      <th>2</th>\n",
       "      <td>C511382</td>\n",
       "      <td>60</td>\n",
       "      <td>male</td>\n",
       "    </tr>\n",
       "    <tr>\n",
       "      <th>3</th>\n",
       "      <td>C511383</td>\n",
       "      <td>48</td>\n",
       "      <td>male</td>\n",
       "    </tr>\n",
       "    <tr>\n",
       "      <th>4</th>\n",
       "      <td>C511384</td>\n",
       "      <td>55</td>\n",
       "      <td>female</td>\n",
       "    </tr>\n",
       "    <tr>\n",
       "      <th>...</th>\n",
       "      <td>...</td>\n",
       "      <td>...</td>\n",
       "      <td>...</td>\n",
       "    </tr>\n",
       "    <tr>\n",
       "      <th>999995</th>\n",
       "      <td>C1511375</td>\n",
       "      <td>57</td>\n",
       "      <td>male</td>\n",
       "    </tr>\n",
       "    <tr>\n",
       "      <th>999996</th>\n",
       "      <td>C1511376</td>\n",
       "      <td>72</td>\n",
       "      <td>male</td>\n",
       "    </tr>\n",
       "    <tr>\n",
       "      <th>999997</th>\n",
       "      <td>C1511377</td>\n",
       "      <td>57</td>\n",
       "      <td>male</td>\n",
       "    </tr>\n",
       "    <tr>\n",
       "      <th>999998</th>\n",
       "      <td>C1511378</td>\n",
       "      <td>63</td>\n",
       "      <td>male</td>\n",
       "    </tr>\n",
       "    <tr>\n",
       "      <th>999999</th>\n",
       "      <td>C1511379</td>\n",
       "      <td>57</td>\n",
       "      <td>male</td>\n",
       "    </tr>\n",
       "  </tbody>\n",
       "</table>\n",
       "<p>1000000 rows × 3 columns</p>\n",
       "</div>"
      ],
      "text/plain": [
       "       customer_id  age  gender\n",
       "0          C511380   68    male\n",
       "1          C511381   57    male\n",
       "2          C511382   60    male\n",
       "3          C511383   48    male\n",
       "4          C511384   55  female\n",
       "...            ...  ...     ...\n",
       "999995    C1511375   57    male\n",
       "999996    C1511376   72    male\n",
       "999997    C1511377   57    male\n",
       "999998    C1511378   63    male\n",
       "999999    C1511379   57    male\n",
       "\n",
       "[1000000 rows x 3 columns]"
      ]
     },
     "execution_count": 144,
     "metadata": {},
     "output_type": "execute_result"
    }
   ],
   "source": [
    "gen_cust = pd.DataFrame({\n",
    "    'customer_id' : np.array(pd.Series(np.repeat(\"C\", sample_size)) + pd.Series(np.arange(511380, 511380+sample_size)).astype(str)),\n",
    "    'age' : dim_customer['age'].sample(sample_size, replace = True).to_numpy(),\n",
    "    'gender' : dim_customer['gender'].sample(sample_size, replace = True).to_numpy(),\n",
    "    })\n",
    "\n",
    "\n",
    "# Make old --> female\n",
    "gen_cust[gen_cust['age']>=60].sample(np.int64(0.3*sample_size))['gender'] = 'female'\n",
    "\n",
    "\n",
    "gen_cust"
   ]
  },
  {
   "cell_type": "code",
   "execution_count": 145,
   "metadata": {},
   "outputs": [],
   "source": [
    "def add_random_cancel_days(date, t_0=30, t_1=800):\n",
    "    if date.month <= 2:\n",
    "         new_date = date + timedelta(days=365)\n",
    "    \n",
    "    elif (date.year == 2020) & (date.month > 3) & (date.month < 8):    \n",
    "        new_date = date + timedelta(days=10)\n",
    "\n",
    "    elif (date.month > 2) & (date.month < 9):    \n",
    "        new_date = date + timedelta(days=160)\n",
    "\n",
    "    else:\n",
    "        n = np.random.uniform(t_0,t_1)\n",
    "        new_date = date + timedelta(days=n)\n",
    "\n",
    "    return new_date\n",
    "\n",
    "\n",
    "def short_cancel_days(date, t_0=30, t_1=200):\n",
    "    n = np.random.uniform(t_0,t_1)\n",
    "    new_date = date + timedelta(days=n)\n",
    "\n",
    "    return new_date"
   ]
  },
  {
   "cell_type": "code",
   "execution_count": 151,
   "metadata": {},
   "outputs": [
    {
     "name": "stderr",
     "output_type": "stream",
     "text": [
      "C:\\Users\\MartinBirkAndreasen\\AppData\\Local\\Temp\\ipykernel_18936\\1508119344.py:18: SettingWithCopyWarning: \n",
      "A value is trying to be set on a copy of a slice from a DataFrame.\n",
      "Try using .loc[row_indexer,col_indexer] = value instead\n",
      "\n",
      "See the caveats in the documentation: https://pandas.pydata.org/pandas-docs/stable/user_guide/indexing.html#returning-a-view-versus-a-copy\n",
      "  gen_prod[gen_prod['customer_id'].isin(selected_shorties)]['cancel_date_time'] = gen_prod[gen_prod['customer_id'].isin(selected_shorties)]['signup_date_time'].apply(lambda x: short_cancel_days(x, t_0=5, t_1=365))\n",
      "C:\\Users\\MartinBirkAndreasen\\AppData\\Local\\Temp\\ipykernel_18936\\1508119344.py:21: SettingWithCopyWarning: \n",
      "A value is trying to be set on a copy of a slice from a DataFrame.\n",
      "Try using .loc[row_indexer,col_indexer] = value instead\n",
      "\n",
      "See the caveats in the documentation: https://pandas.pydata.org/pandas-docs/stable/user_guide/indexing.html#returning-a-view-versus-a-copy\n",
      "  gen_prod[gen_prod['customer_id'].isin(selected_shorties)]['cancel_date_time'] = gen_prod[gen_prod['customer_id'].isin(selected_shorties)]['signup_date_time'].apply(lambda x: add_random_cancel_days(x, t_0=5, t_1=60))\n"
     ]
    },
    {
     "data": {
      "text/html": [
       "<div>\n",
       "<style scoped>\n",
       "    .dataframe tbody tr th:only-of-type {\n",
       "        vertical-align: middle;\n",
       "    }\n",
       "\n",
       "    .dataframe tbody tr th {\n",
       "        vertical-align: top;\n",
       "    }\n",
       "\n",
       "    .dataframe thead th {\n",
       "        text-align: right;\n",
       "    }\n",
       "</style>\n",
       "<table border=\"1\" class=\"dataframe\">\n",
       "  <thead>\n",
       "    <tr style=\"text-align: right;\">\n",
       "      <th></th>\n",
       "      <th>customer_id</th>\n",
       "      <th>product</th>\n",
       "      <th>signup_date_time</th>\n",
       "      <th>cancel_date_time</th>\n",
       "    </tr>\n",
       "  </thead>\n",
       "  <tbody>\n",
       "    <tr>\n",
       "      <th>0</th>\n",
       "      <td>C511380</td>\n",
       "      <td>prd_2</td>\n",
       "      <td>2018-04-14 00:17:39.000000</td>\n",
       "      <td>2018-06-28 07:04:06.843573</td>\n",
       "    </tr>\n",
       "    <tr>\n",
       "      <th>1</th>\n",
       "      <td>C511381</td>\n",
       "      <td>prd_1</td>\n",
       "      <td>2021-09-16 13:18:44.000000</td>\n",
       "      <td>2022-02-03 13:33:02.962513</td>\n",
       "    </tr>\n",
       "    <tr>\n",
       "      <th>2</th>\n",
       "      <td>C511382</td>\n",
       "      <td>prd_2</td>\n",
       "      <td>2020-09-05 12:13:42.000000</td>\n",
       "      <td>2021-02-02 06:43:27.178043</td>\n",
       "    </tr>\n",
       "    <tr>\n",
       "      <th>3</th>\n",
       "      <td>C511383</td>\n",
       "      <td>prd_1</td>\n",
       "      <td>2021-11-25 23:57:32.007846</td>\n",
       "      <td>2022-01-10 08:54:35.412250</td>\n",
       "    </tr>\n",
       "    <tr>\n",
       "      <th>4</th>\n",
       "      <td>C511384</td>\n",
       "      <td>prd_1</td>\n",
       "      <td>2018-11-23 21:48:28.000000</td>\n",
       "      <td>2019-04-30 22:21:06.691606</td>\n",
       "    </tr>\n",
       "    <tr>\n",
       "      <th>...</th>\n",
       "      <td>...</td>\n",
       "      <td>...</td>\n",
       "      <td>...</td>\n",
       "      <td>...</td>\n",
       "    </tr>\n",
       "    <tr>\n",
       "      <th>999995</th>\n",
       "      <td>C1511375</td>\n",
       "      <td>prd_1</td>\n",
       "      <td>2020-11-28 14:19:51.967062</td>\n",
       "      <td>2021-04-13 09:04:45.839180</td>\n",
       "    </tr>\n",
       "    <tr>\n",
       "      <th>999996</th>\n",
       "      <td>C1511376</td>\n",
       "      <td>prd_2</td>\n",
       "      <td>2021-08-03 16:50:19.000000</td>\n",
       "      <td>2021-09-21 14:26:56.239452</td>\n",
       "    </tr>\n",
       "    <tr>\n",
       "      <th>999997</th>\n",
       "      <td>C1511377</td>\n",
       "      <td>prd_2</td>\n",
       "      <td>2017-05-17 09:43:13.000000</td>\n",
       "      <td>2017-07-29 19:27:25.002794</td>\n",
       "    </tr>\n",
       "    <tr>\n",
       "      <th>999998</th>\n",
       "      <td>C1511378</td>\n",
       "      <td>prd_1</td>\n",
       "      <td>2018-07-17 00:29:29.100129</td>\n",
       "      <td>2018-09-29 18:57:12.678565</td>\n",
       "    </tr>\n",
       "    <tr>\n",
       "      <th>999999</th>\n",
       "      <td>C1511379</td>\n",
       "      <td>prd_1</td>\n",
       "      <td>2021-11-20 13:49:55.000000</td>\n",
       "      <td>2022-01-29 03:40:47.491369</td>\n",
       "    </tr>\n",
       "  </tbody>\n",
       "</table>\n",
       "<p>1000000 rows × 4 columns</p>\n",
       "</div>"
      ],
      "text/plain": [
       "       customer_id product           signup_date_time  \\\n",
       "0          C511380   prd_2 2018-04-14 00:17:39.000000   \n",
       "1          C511381   prd_1 2021-09-16 13:18:44.000000   \n",
       "2          C511382   prd_2 2020-09-05 12:13:42.000000   \n",
       "3          C511383   prd_1 2021-11-25 23:57:32.007846   \n",
       "4          C511384   prd_1 2018-11-23 21:48:28.000000   \n",
       "...            ...     ...                        ...   \n",
       "999995    C1511375   prd_1 2020-11-28 14:19:51.967062   \n",
       "999996    C1511376   prd_2 2021-08-03 16:50:19.000000   \n",
       "999997    C1511377   prd_2 2017-05-17 09:43:13.000000   \n",
       "999998    C1511378   prd_1 2018-07-17 00:29:29.100129   \n",
       "999999    C1511379   prd_1 2021-11-20 13:49:55.000000   \n",
       "\n",
       "                 cancel_date_time  \n",
       "0      2018-06-28 07:04:06.843573  \n",
       "1      2022-02-03 13:33:02.962513  \n",
       "2      2021-02-02 06:43:27.178043  \n",
       "3      2022-01-10 08:54:35.412250  \n",
       "4      2019-04-30 22:21:06.691606  \n",
       "...                           ...  \n",
       "999995 2021-04-13 09:04:45.839180  \n",
       "999996 2021-09-21 14:26:56.239452  \n",
       "999997 2017-07-29 19:27:25.002794  \n",
       "999998 2018-09-29 18:57:12.678565  \n",
       "999999 2022-01-29 03:40:47.491369  \n",
       "\n",
       "[1000000 rows x 4 columns]"
      ]
     },
     "execution_count": 151,
     "metadata": {},
     "output_type": "execute_result"
    }
   ],
   "source": [
    "gen_prod = gen_cases[['customer_id', 'date_time']].copy()\n",
    "\n",
    "gen_prod['product'] = product['product'].sample(sample_size, replace = True).to_numpy()\n",
    "\n",
    "gen_prod = gen_prod[['customer_id', 'product', 'date_time']].copy()\n",
    "\n",
    "gen_prod['date_time'] = pd.to_datetime(gen_prod['date_time']) \n",
    "\n",
    "gen_prod['cancel_date_time'] = gen_prod['date_time'].apply(lambda x: short_cancel_days(x))\n",
    "\n",
    "gen_prod = gen_prod.rename(columns={'date_time': 'signup_date_time'})\n",
    "\n",
    "# Make old --> prd_2\n",
    "gen_cust[gen_cust['age']>=60].sample(np.int64(0.3*sample_size))['product'] = 'prd_2'\n",
    "\n",
    "# Make even shorter cancelation for some\n",
    "selected_shorties = gen_prod[gen_prod['signup_date_time'] < pd.to_datetime('2021-01-27')]['customer_id']\n",
    "gen_prod[gen_prod['customer_id'].isin(selected_shorties)]['cancel_date_time'] = gen_prod[gen_prod['customer_id'].isin(selected_shorties)]['signup_date_time'].apply(lambda x: short_cancel_days(x, t_0=5, t_1=365))\n",
    "\n",
    "selected_shorties = gen_prod[(gen_prod['signup_date_time'] > pd.to_datetime('2021-01-27')) & (gen_prod['signup_date_time'] < pd.to_datetime('2022-01-27'))]['customer_id']\n",
    "gen_prod[gen_prod['customer_id'].isin(selected_shorties)]['cancel_date_time'] = gen_prod[gen_prod['customer_id'].isin(selected_shorties)]['signup_date_time'].apply(lambda x: add_random_cancel_days(x, t_0=5, t_1=60))\n",
    "\n",
    "gen_prod"
   ]
  },
  {
   "cell_type": "markdown",
   "metadata": {},
   "source": [
    "# Merge original and generated data"
   ]
  },
  {
   "cell_type": "code",
   "execution_count": 152,
   "metadata": {},
   "outputs": [],
   "source": [
    "new_cases = pd.concat([cases,gen_cases], ignore_index=True)\n",
    "new_product = pd.concat([product,gen_prod], ignore_index=True)\n",
    "new_dim_customer = pd.concat([dim_customer, gen_cust], ignore_index=True)"
   ]
  },
  {
   "cell_type": "code",
   "execution_count": 153,
   "metadata": {},
   "outputs": [
    {
     "data": {
      "text/plain": [
       "[]"
      ]
     },
     "execution_count": 153,
     "metadata": {},
     "output_type": "execute_result"
    },
    {
     "data": {
      "image/png": "[encoded data removed]",
      "text/plain": [
       "<Figure size 432x288 with 1 Axes>"
      ]
     },
     "metadata": {
      "needs_background": "light"
     },
     "output_type": "display_data"
    }
   ],
   "source": [
    "group = new_cases.groupby([pd.DatetimeIndex(new_cases['date_time']).year, pd.DatetimeIndex(new_cases['date_time']).month])['customer_id'].count()\n",
    "group.plot(x = 'customer_id')\n",
    "plt.plot()"
   ]
  },
  {
   "cell_type": "code",
   "execution_count": 154,
   "metadata": {},
   "outputs": [
    {
     "data": {
      "text/plain": [
       "[]"
      ]
     },
     "execution_count": 154,
     "metadata": {},
     "output_type": "execute_result"
    },
    {
     "data": {
      "image/png": "[encoded data removed]",
      "text/plain": [
       "<Figure size 432x288 with 1 Axes>"
      ]
     },
     "metadata": {
      "needs_background": "light"
     },
     "output_type": "display_data"
    }
   ],
   "source": [
    "\n",
    "group2 = new_product.groupby([pd.DatetimeIndex(new_product['cancel_date_time']).year, pd.DatetimeIndex(new_product['cancel_date_time']).month])['customer_id'].count()\n",
    "group2.plot(x = 'customer_id')\n",
    "plt.plot()"
   ]
  },
  {
   "cell_type": "markdown",
   "metadata": {},
   "source": [
    "# Save new data"
   ]
  },
  {
   "cell_type": "code",
   "execution_count": 155,
   "metadata": {},
   "outputs": [],
   "source": [
    "new_cases.to_csv(r'C:\\Users\\MartinBirkAndreasen\\Desktop\\Jazz\\QlikWorld\\subscription\\raw\\customer_cases.csv', index=False, encoding='utf-8', sep=',')\n",
    "new_product.to_csv(r'C:\\Users\\MartinBirkAndreasen\\Desktop\\Jazz\\QlikWorld\\subscription\\raw\\customer_product.csv', index=False, encoding='utf-8', sep=',')\n",
    "new_dim_customer.to_csv(r'C:\\Users\\MartinBirkAndreasen\\Desktop\\Jazz\\QlikWorld\\subscription\\raw\\customer_info.csv', index=False, encoding='utf-8', sep=',')"
   ]
  },
  {
   "cell_type": "code",
   "execution_count": null,
   "metadata": {},
   "outputs": [],
   "source": []
  }
 ],
 "metadata": {
  "kernelspec": {
   "display_name": "Python 3.9.12 ('base')",
   "language": "python",
   "name": "python3"
  },
  "language_info": {
   "codemirror_mode": {
    "name": "ipython",
    "version": 3
   },
   "file_extension": ".py",
   "mimetype": "text/x-python",
   "name": "python",
   "nbconvert_exporter": "python",
   "pygments_lexer": "ipython3",
   "version": "3.9.12"
  },
  "orig_nbformat": 4,
  "vscode": {
   "interpreter": {
    "hash": "7190f421500c652e9bfc678a87058c79c11bbf5d93e40be5b5e1d45688125a7e"
   }
  }
 },
 "nbformat": 4,
 "nbformat_minor": 2
}
