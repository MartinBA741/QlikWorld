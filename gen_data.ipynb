{
 "cells": [
  {
   "cell_type": "code",
   "execution_count": 118,
   "metadata": {},
   "outputs": [],
   "source": [
    "import numpy as np\n",
    "import pandas as pd\n",
    "from datetime import timedelta\n",
    "import matplotlib.pyplot as plt\n",
    "import random\n",
    "\n",
    "random.seed(741)"
   ]
  },
  {
   "cell_type": "code",
   "execution_count": 85,
   "metadata": {},
   "outputs": [],
   "source": [
    "cases = pd.read_csv(r'C:\\Users\\MartinBirkAndreasen\\Desktop\\Jazz\\QlikWorld\\subscription\\original_raw\\customer_cases.csv', index_col=0)\n",
    "product = pd.read_csv(r'C:\\Users\\MartinBirkAndreasen\\Desktop\\Jazz\\QlikWorld\\subscription\\original_raw\\customer_product.csv', index_col=0)\n",
    "dim_customer = pd.read_csv(r'C:\\Users\\MartinBirkAndreasen\\Desktop\\Jazz\\QlikWorld\\subscription\\original_raw\\customer_info.csv', index_col=0)"
   ]
  },
  {
   "cell_type": "markdown",
   "metadata": {},
   "source": [
    "# Generate more users:\n",
    "- Generate customers in customer_cases\n",
    "- Add the new customers to dim_customer and generate age, gender, \n",
    "- Add customer to products - Add created date. + Generate new cancelation month (after created date)\n"
   ]
  },
  {
   "cell_type": "code",
   "execution_count": 203,
   "metadata": {},
   "outputs": [],
   "source": [
    "def add_random_days(date, t_0=60, t_1=120):\n",
    "    if date.month > 7:\n",
    "         new_date = date\n",
    "    \n",
    "    else:\n",
    "        n = np.random.uniform(t_0,t_1)\n",
    "        new_date = date + timedelta(days=n)\n",
    "\n",
    "    return new_date\n"
   ]
  },
  {
   "cell_type": "code",
   "execution_count": 204,
   "metadata": {},
   "outputs": [
    {
     "data": {
      "text/html": [
       "<div>\n",
       "<style scoped>\n",
       "    .dataframe tbody tr th:only-of-type {\n",
       "        vertical-align: middle;\n",
       "    }\n",
       "\n",
       "    .dataframe tbody tr th {\n",
       "        vertical-align: top;\n",
       "    }\n",
       "\n",
       "    .dataframe thead th {\n",
       "        text-align: right;\n",
       "    }\n",
       "</style>\n",
       "<table border=\"1\" class=\"dataframe\">\n",
       "  <thead>\n",
       "    <tr style=\"text-align: right;\">\n",
       "      <th></th>\n",
       "      <th>case_id</th>\n",
       "      <th>date_time</th>\n",
       "      <th>customer_id</th>\n",
       "      <th>channel</th>\n",
       "      <th>reason</th>\n",
       "    </tr>\n",
       "  </thead>\n",
       "  <tbody>\n",
       "    <tr>\n",
       "      <th>0</th>\n",
       "      <td>CC330613</td>\n",
       "      <td>2021-09-30 22:23:24.164414</td>\n",
       "      <td>C511380</td>\n",
       "      <td>phone</td>\n",
       "      <td>support</td>\n",
       "    </tr>\n",
       "    <tr>\n",
       "      <th>1</th>\n",
       "      <td>CC330614</td>\n",
       "      <td>2021-09-16 13:18:44.000000</td>\n",
       "      <td>C511381</td>\n",
       "      <td>phone</td>\n",
       "      <td>signup</td>\n",
       "    </tr>\n",
       "    <tr>\n",
       "      <th>2</th>\n",
       "      <td>CC330615</td>\n",
       "      <td>2020-09-05 12:13:42.000000</td>\n",
       "      <td>C511382</td>\n",
       "      <td>phone</td>\n",
       "      <td>support</td>\n",
       "    </tr>\n",
       "    <tr>\n",
       "      <th>3</th>\n",
       "      <td>CC330616</td>\n",
       "      <td>2020-08-21 18:11:32.444727</td>\n",
       "      <td>C511383</td>\n",
       "      <td>phone</td>\n",
       "      <td>signup</td>\n",
       "    </tr>\n",
       "    <tr>\n",
       "      <th>4</th>\n",
       "      <td>CC330617</td>\n",
       "      <td>2020-08-01 19:26:56.698682</td>\n",
       "      <td>C511384</td>\n",
       "      <td>phone</td>\n",
       "      <td>support</td>\n",
       "    </tr>\n",
       "    <tr>\n",
       "      <th>...</th>\n",
       "      <td>...</td>\n",
       "      <td>...</td>\n",
       "      <td>...</td>\n",
       "      <td>...</td>\n",
       "      <td>...</td>\n",
       "    </tr>\n",
       "    <tr>\n",
       "      <th>199995</th>\n",
       "      <td>CC530608</td>\n",
       "      <td>2020-07-26 18:19:21.130115</td>\n",
       "      <td>C711375</td>\n",
       "      <td>phone</td>\n",
       "      <td>support</td>\n",
       "    </tr>\n",
       "    <tr>\n",
       "      <th>199996</th>\n",
       "      <td>CC530609</td>\n",
       "      <td>2019-12-13 14:03:37.948091</td>\n",
       "      <td>C711376</td>\n",
       "      <td>phone</td>\n",
       "      <td>support</td>\n",
       "    </tr>\n",
       "    <tr>\n",
       "      <th>199997</th>\n",
       "      <td>CC530610</td>\n",
       "      <td>2021-11-09 20:11:22.485901</td>\n",
       "      <td>C711377</td>\n",
       "      <td>email</td>\n",
       "      <td>support</td>\n",
       "    </tr>\n",
       "    <tr>\n",
       "      <th>199998</th>\n",
       "      <td>CC530611</td>\n",
       "      <td>2021-09-15 13:58:44.000000</td>\n",
       "      <td>C711378</td>\n",
       "      <td>phone</td>\n",
       "      <td>signup</td>\n",
       "    </tr>\n",
       "    <tr>\n",
       "      <th>199999</th>\n",
       "      <td>CC530612</td>\n",
       "      <td>2021-11-13 12:52:37.000000</td>\n",
       "      <td>C711379</td>\n",
       "      <td>phone</td>\n",
       "      <td>signup</td>\n",
       "    </tr>\n",
       "  </tbody>\n",
       "</table>\n",
       "<p>200000 rows × 5 columns</p>\n",
       "</div>"
      ],
      "text/plain": [
       "         case_id                  date_time customer_id channel   reason\n",
       "0       CC330613 2021-09-30 22:23:24.164414     C511380   phone  support\n",
       "1       CC330614 2021-09-16 13:18:44.000000     C511381   phone   signup\n",
       "2       CC330615 2020-09-05 12:13:42.000000     C511382   phone  support\n",
       "3       CC330616 2020-08-21 18:11:32.444727     C511383   phone   signup\n",
       "4       CC330617 2020-08-01 19:26:56.698682     C511384   phone  support\n",
       "...          ...                        ...         ...     ...      ...\n",
       "199995  CC530608 2020-07-26 18:19:21.130115     C711375   phone  support\n",
       "199996  CC530609 2019-12-13 14:03:37.948091     C711376   phone  support\n",
       "199997  CC530610 2021-11-09 20:11:22.485901     C711377   email  support\n",
       "199998  CC530611 2021-09-15 13:58:44.000000     C711378   phone   signup\n",
       "199999  CC530612 2021-11-13 12:52:37.000000     C711379   phone   signup\n",
       "\n",
       "[200000 rows x 5 columns]"
      ]
     },
     "execution_count": 204,
     "metadata": {},
     "output_type": "execute_result"
    }
   ],
   "source": [
    "sample_size = 200000\n",
    "\n",
    "gen_cases = pd.DataFrame({\n",
    "    'case_id' :  np.array(pd.Series(np.repeat(\"CC\", sample_size)) + pd.Series(np.arange(330613, 330613+sample_size)).astype(str)),\n",
    "    'date_time' : cases['date_time'].sample(sample_size, replace = True, random_state=741).to_numpy(),\n",
    "    'customer_id' : np.array(pd.Series(np.repeat(\"C\", sample_size)) + pd.Series(np.arange(511380, 511380+sample_size)).astype(str)),\n",
    "    'channel' : cases['channel'].sample(sample_size, replace = True).to_numpy(),\n",
    "    'reason' : cases['reason'].sample(sample_size, replace = True).to_numpy(),\n",
    "    })\n",
    "\n",
    "gen_cases['date_time'] = pd.to_datetime(gen_cases['date_time']).apply(lambda x: add_random_days(x, t_0=100, t_1=160))\n",
    "\n",
    "gen_cases"
   ]
  },
  {
   "cell_type": "code",
   "execution_count": 205,
   "metadata": {},
   "outputs": [
    {
     "data": {
      "text/plain": [
       "date_time\n",
       "1       248\n",
       "4      1601\n",
       "5      8612\n",
       "6     14227\n",
       "7     16391\n",
       "8     36276\n",
       "9     35304\n",
       "10    35484\n",
       "11    30753\n",
       "12    21104\n",
       "Name: customer_id, dtype: int64"
      ]
     },
     "execution_count": 205,
     "metadata": {},
     "output_type": "execute_result"
    }
   ],
   "source": [
    "gen_cases.groupby(gen_cases['date_time'].dt.month)['customer_id'].count()"
   ]
  },
  {
   "cell_type": "code",
   "execution_count": 206,
   "metadata": {},
   "outputs": [
    {
     "data": {
      "image/png": "[encoded data removed]",
      "text/plain": [
       "<Figure size 432x288 with 1 Axes>"
      ]
     },
     "metadata": {
      "needs_background": "light"
     },
     "output_type": "display_data"
    }
   ],
   "source": [
    "plt.hist(gen_cases['date_time'].dt.month)\n",
    "plt.show()"
   ]
  },
  {
   "cell_type": "code",
   "execution_count": 207,
   "metadata": {},
   "outputs": [
    {
     "data": {
      "text/html": [
       "<div>\n",
       "<style scoped>\n",
       "    .dataframe tbody tr th:only-of-type {\n",
       "        vertical-align: middle;\n",
       "    }\n",
       "\n",
       "    .dataframe tbody tr th {\n",
       "        vertical-align: top;\n",
       "    }\n",
       "\n",
       "    .dataframe thead th {\n",
       "        text-align: right;\n",
       "    }\n",
       "</style>\n",
       "<table border=\"1\" class=\"dataframe\">\n",
       "  <thead>\n",
       "    <tr style=\"text-align: right;\">\n",
       "      <th></th>\n",
       "      <th>customer_id</th>\n",
       "      <th>age</th>\n",
       "      <th>gender</th>\n",
       "    </tr>\n",
       "  </thead>\n",
       "  <tbody>\n",
       "    <tr>\n",
       "      <th>0</th>\n",
       "      <td>C511380</td>\n",
       "      <td>63</td>\n",
       "      <td>male</td>\n",
       "    </tr>\n",
       "    <tr>\n",
       "      <th>1</th>\n",
       "      <td>C511381</td>\n",
       "      <td>62</td>\n",
       "      <td>male</td>\n",
       "    </tr>\n",
       "    <tr>\n",
       "      <th>2</th>\n",
       "      <td>C511382</td>\n",
       "      <td>44</td>\n",
       "      <td>female</td>\n",
       "    </tr>\n",
       "    <tr>\n",
       "      <th>3</th>\n",
       "      <td>C511383</td>\n",
       "      <td>51</td>\n",
       "      <td>male</td>\n",
       "    </tr>\n",
       "    <tr>\n",
       "      <th>4</th>\n",
       "      <td>C511384</td>\n",
       "      <td>46</td>\n",
       "      <td>male</td>\n",
       "    </tr>\n",
       "    <tr>\n",
       "      <th>...</th>\n",
       "      <td>...</td>\n",
       "      <td>...</td>\n",
       "      <td>...</td>\n",
       "    </tr>\n",
       "    <tr>\n",
       "      <th>199995</th>\n",
       "      <td>C711375</td>\n",
       "      <td>66</td>\n",
       "      <td>female</td>\n",
       "    </tr>\n",
       "    <tr>\n",
       "      <th>199996</th>\n",
       "      <td>C711376</td>\n",
       "      <td>75</td>\n",
       "      <td>female</td>\n",
       "    </tr>\n",
       "    <tr>\n",
       "      <th>199997</th>\n",
       "      <td>C711377</td>\n",
       "      <td>57</td>\n",
       "      <td>female</td>\n",
       "    </tr>\n",
       "    <tr>\n",
       "      <th>199998</th>\n",
       "      <td>C711378</td>\n",
       "      <td>52</td>\n",
       "      <td>male</td>\n",
       "    </tr>\n",
       "    <tr>\n",
       "      <th>199999</th>\n",
       "      <td>C711379</td>\n",
       "      <td>62</td>\n",
       "      <td>female</td>\n",
       "    </tr>\n",
       "  </tbody>\n",
       "</table>\n",
       "<p>200000 rows × 3 columns</p>\n",
       "</div>"
      ],
      "text/plain": [
       "       customer_id  age  gender\n",
       "0          C511380   63    male\n",
       "1          C511381   62    male\n",
       "2          C511382   44  female\n",
       "3          C511383   51    male\n",
       "4          C511384   46    male\n",
       "...            ...  ...     ...\n",
       "199995     C711375   66  female\n",
       "199996     C711376   75  female\n",
       "199997     C711377   57  female\n",
       "199998     C711378   52    male\n",
       "199999     C711379   62  female\n",
       "\n",
       "[200000 rows x 3 columns]"
      ]
     },
     "execution_count": 207,
     "metadata": {},
     "output_type": "execute_result"
    }
   ],
   "source": [
    "gen_cust = pd.DataFrame({\n",
    "    'customer_id' : np.array(pd.Series(np.repeat(\"C\", sample_size)) + pd.Series(np.arange(511380, 511380+sample_size)).astype(str)),\n",
    "    'age' : dim_customer['age'].sample(sample_size, replace = True).to_numpy(),\n",
    "    'gender' : dim_customer['gender'].sample(sample_size, replace = True).to_numpy(),\n",
    "    })\n",
    "\n",
    "gen_cust"
   ]
  },
  {
   "cell_type": "code",
   "execution_count": 260,
   "metadata": {},
   "outputs": [],
   "source": [
    "def add_random_cancel_days(date, t_0=30, t_1=800):\n",
    "    if date.month <= 2:\n",
    "         new_date = date + timedelta(days=365)\n",
    "    \n",
    "    elif (date.year == 2020) & (date.month > 3) & (date.month < 8):    \n",
    "        new_date = date + timedelta(days=10)\n",
    "\n",
    "    elif (date.month > 2) & (date.month < 9):    \n",
    "        new_date = date + timedelta(days=160)\n",
    "\n",
    "    else:\n",
    "        n = np.random.uniform(t_0,t_1)\n",
    "        new_date = date + timedelta(days=n)\n",
    "\n",
    "    return new_date"
   ]
  },
  {
   "cell_type": "code",
   "execution_count": 261,
   "metadata": {},
   "outputs": [
    {
     "data": {
      "text/html": [
       "<div>\n",
       "<style scoped>\n",
       "    .dataframe tbody tr th:only-of-type {\n",
       "        vertical-align: middle;\n",
       "    }\n",
       "\n",
       "    .dataframe tbody tr th {\n",
       "        vertical-align: top;\n",
       "    }\n",
       "\n",
       "    .dataframe thead th {\n",
       "        text-align: right;\n",
       "    }\n",
       "</style>\n",
       "<table border=\"1\" class=\"dataframe\">\n",
       "  <thead>\n",
       "    <tr style=\"text-align: right;\">\n",
       "      <th></th>\n",
       "      <th>customer_id</th>\n",
       "      <th>product</th>\n",
       "      <th>signup_date_time</th>\n",
       "      <th>cancel_date_time</th>\n",
       "    </tr>\n",
       "  </thead>\n",
       "  <tbody>\n",
       "    <tr>\n",
       "      <th>0</th>\n",
       "      <td>C511380</td>\n",
       "      <td>prd_1</td>\n",
       "      <td>2021-09-30 22:23:24.164414</td>\n",
       "      <td>2022-08-31 22:59:14.513258</td>\n",
       "    </tr>\n",
       "    <tr>\n",
       "      <th>1</th>\n",
       "      <td>C511381</td>\n",
       "      <td>prd_1</td>\n",
       "      <td>2021-09-16 13:18:44.000000</td>\n",
       "      <td>2023-05-19 23:48:20.524106</td>\n",
       "    </tr>\n",
       "    <tr>\n",
       "      <th>2</th>\n",
       "      <td>C511382</td>\n",
       "      <td>prd_1</td>\n",
       "      <td>2020-09-05 12:13:42.000000</td>\n",
       "      <td>2020-10-07 11:30:27.811391</td>\n",
       "    </tr>\n",
       "    <tr>\n",
       "      <th>3</th>\n",
       "      <td>C511383</td>\n",
       "      <td>prd_1</td>\n",
       "      <td>2020-08-21 18:11:32.444727</td>\n",
       "      <td>2021-01-28 18:11:32.444727</td>\n",
       "    </tr>\n",
       "    <tr>\n",
       "      <th>4</th>\n",
       "      <td>C511384</td>\n",
       "      <td>prd_2</td>\n",
       "      <td>2020-08-01 19:26:56.698682</td>\n",
       "      <td>2021-01-08 19:26:56.698682</td>\n",
       "    </tr>\n",
       "    <tr>\n",
       "      <th>...</th>\n",
       "      <td>...</td>\n",
       "      <td>...</td>\n",
       "      <td>...</td>\n",
       "      <td>...</td>\n",
       "    </tr>\n",
       "    <tr>\n",
       "      <th>199995</th>\n",
       "      <td>C711375</td>\n",
       "      <td>prd_1</td>\n",
       "      <td>2020-07-26 18:19:21.130115</td>\n",
       "      <td>2020-08-05 18:19:21.130115</td>\n",
       "    </tr>\n",
       "    <tr>\n",
       "      <th>199996</th>\n",
       "      <td>C711376</td>\n",
       "      <td>prd_1</td>\n",
       "      <td>2019-12-13 14:03:37.948091</td>\n",
       "      <td>2021-09-21 21:41:53.690463</td>\n",
       "    </tr>\n",
       "    <tr>\n",
       "      <th>199997</th>\n",
       "      <td>C711377</td>\n",
       "      <td>prd_1</td>\n",
       "      <td>2021-11-09 20:11:22.485901</td>\n",
       "      <td>2023-11-04 21:22:31.488254</td>\n",
       "    </tr>\n",
       "    <tr>\n",
       "      <th>199998</th>\n",
       "      <td>C711378</td>\n",
       "      <td>prd_1</td>\n",
       "      <td>2021-09-15 13:58:44.000000</td>\n",
       "      <td>2023-03-01 12:08:21.188780</td>\n",
       "    </tr>\n",
       "    <tr>\n",
       "      <th>199999</th>\n",
       "      <td>C711379</td>\n",
       "      <td>prd_2</td>\n",
       "      <td>2021-11-13 12:52:37.000000</td>\n",
       "      <td>2023-11-23 01:29:09.599999</td>\n",
       "    </tr>\n",
       "  </tbody>\n",
       "</table>\n",
       "<p>200000 rows × 4 columns</p>\n",
       "</div>"
      ],
      "text/plain": [
       "       customer_id product           signup_date_time  \\\n",
       "0          C511380   prd_1 2021-09-30 22:23:24.164414   \n",
       "1          C511381   prd_1 2021-09-16 13:18:44.000000   \n",
       "2          C511382   prd_1 2020-09-05 12:13:42.000000   \n",
       "3          C511383   prd_1 2020-08-21 18:11:32.444727   \n",
       "4          C511384   prd_2 2020-08-01 19:26:56.698682   \n",
       "...            ...     ...                        ...   \n",
       "199995     C711375   prd_1 2020-07-26 18:19:21.130115   \n",
       "199996     C711376   prd_1 2019-12-13 14:03:37.948091   \n",
       "199997     C711377   prd_1 2021-11-09 20:11:22.485901   \n",
       "199998     C711378   prd_1 2021-09-15 13:58:44.000000   \n",
       "199999     C711379   prd_2 2021-11-13 12:52:37.000000   \n",
       "\n",
       "                 cancel_date_time  \n",
       "0      2022-08-31 22:59:14.513258  \n",
       "1      2023-05-19 23:48:20.524106  \n",
       "2      2020-10-07 11:30:27.811391  \n",
       "3      2021-01-28 18:11:32.444727  \n",
       "4      2021-01-08 19:26:56.698682  \n",
       "...                           ...  \n",
       "199995 2020-08-05 18:19:21.130115  \n",
       "199996 2021-09-21 21:41:53.690463  \n",
       "199997 2023-11-04 21:22:31.488254  \n",
       "199998 2023-03-01 12:08:21.188780  \n",
       "199999 2023-11-23 01:29:09.599999  \n",
       "\n",
       "[200000 rows x 4 columns]"
      ]
     },
     "execution_count": 261,
     "metadata": {},
     "output_type": "execute_result"
    }
   ],
   "source": [
    "gen_prod = gen_cases[['customer_id', 'date_time']].copy()\n",
    "\n",
    "gen_prod['product'] = product['product'].sample(sample_size, replace = True).to_numpy()\n",
    "\n",
    "gen_prod = gen_prod[['customer_id', 'product', 'date_time']].copy()\n",
    "\n",
    "gen_prod['date_time'] = pd.to_datetime(gen_prod['date_time']) \n",
    "\n",
    "gen_prod['cancel_date_time'] = gen_prod['date_time'].apply(lambda x: add_random_cancel_days(x))\n",
    "\n",
    "gen_prod = gen_prod.rename(columns={'date_time': 'signup_date_time'})\n",
    "\n",
    "gen_prod"
   ]
  },
  {
   "cell_type": "code",
   "execution_count": 262,
   "metadata": {},
   "outputs": [
    {
     "data": {
      "text/plain": [
       "cancel_date_time\n",
       "1     42553\n",
       "2     17867\n",
       "3      9942\n",
       "4      9838\n",
       "5     11773\n",
       "6     12982\n",
       "7     14109\n",
       "8     11187\n",
       "9      9990\n",
       "10    15559\n",
       "11    20958\n",
       "12    23242\n",
       "Name: customer_id, dtype: int64"
      ]
     },
     "execution_count": 262,
     "metadata": {},
     "output_type": "execute_result"
    }
   ],
   "source": [
    "gen_prod.groupby(gen_prod['cancel_date_time'].dt.month)['customer_id'].count()"
   ]
  },
  {
   "cell_type": "markdown",
   "metadata": {},
   "source": [
    "# Merge original and generated data"
   ]
  },
  {
   "cell_type": "code",
   "execution_count": 263,
   "metadata": {},
   "outputs": [],
   "source": [
    "new_cases = pd.concat([cases,gen_cases], ignore_index=True)\n",
    "new_product = pd.concat([product,gen_prod], ignore_index=True)\n",
    "new_dim_customer = pd.concat([dim_customer, gen_cust], ignore_index=True)"
   ]
  },
  {
   "cell_type": "code",
   "execution_count": 264,
   "metadata": {},
   "outputs": [
    {
     "data": {
      "text/plain": [
       "[]"
      ]
     },
     "execution_count": 264,
     "metadata": {},
     "output_type": "execute_result"
    },
    {
     "data": {
      "image/png": "[encoded data removed]",
      "text/plain": [
       "<Figure size 432x288 with 1 Axes>"
      ]
     },
     "metadata": {
      "needs_background": "light"
     },
     "output_type": "display_data"
    }
   ],
   "source": [
    "group = new_cases.groupby([pd.DatetimeIndex(new_cases['date_time']).year, pd.DatetimeIndex(new_cases['date_time']).month])['customer_id'].count()\n",
    "group.plot(x = 'customer_id')\n",
    "plt.plot()"
   ]
  },
  {
   "cell_type": "code",
   "execution_count": 266,
   "metadata": {},
   "outputs": [
    {
     "data": {
      "text/plain": [
       "[]"
      ]
     },
     "execution_count": 266,
     "metadata": {},
     "output_type": "execute_result"
    },
    {
     "data": {
      "image/png": "[encoded data removed]",
      "text/plain": [
       "<Figure size 432x288 with 1 Axes>"
      ]
     },
     "metadata": {
      "needs_background": "light"
     },
     "output_type": "display_data"
    }
   ],
   "source": [
    "\n",
    "group2 = new_product.groupby([pd.DatetimeIndex(new_product['cancel_date_time']).year, pd.DatetimeIndex(new_product['cancel_date_time']).month])['customer_id'].count()\n",
    "group2.plot(x = 'customer_id')\n",
    "plt.plot()"
   ]
  },
  {
   "cell_type": "markdown",
   "metadata": {},
   "source": [
    "# Save new data"
   ]
  },
  {
   "cell_type": "code",
   "execution_count": 268,
   "metadata": {},
   "outputs": [],
   "source": [
    "new_cases.to_csv(r'C:\\Users\\MartinBirkAndreasen\\Desktop\\Jazz\\QlikWorld\\subscription\\raw\\customer_cases.csv', index=False, encoding='utf-8', sep=',')\n",
    "new_product.to_csv(r'C:\\Users\\MartinBirkAndreasen\\Desktop\\Jazz\\QlikWorld\\subscription\\raw\\customer_product.csv', index=False, encoding='utf-8', sep=',')\n",
    "new_dim_customer.to_csv(r'C:\\Users\\MartinBirkAndreasen\\Desktop\\Jazz\\QlikWorld\\subscription\\raw\\customer_info.csv', index=False, encoding='utf-8', sep=',')"
   ]
  }
 ],
 "metadata": {
  "kernelspec": {
   "display_name": "Python 3.9.12 ('base')",
   "language": "python",
   "name": "python3"
  },
  "language_info": {
   "codemirror_mode": {
    "name": "ipython",
    "version": 3
   },
   "file_extension": ".py",
   "mimetype": "text/x-python",
   "name": "python",
   "nbconvert_exporter": "python",
   "pygments_lexer": "ipython3",
   "version": "3.9.12"
  },
  "orig_nbformat": 4,
  "vscode": {
   "interpreter": {
    "hash": "7190f421500c652e9bfc678a87058c79c11bbf5d93e40be5b5e1d45688125a7e"
   }
  }
 },
 "nbformat": 4,
 "nbformat_minor": 2
}
