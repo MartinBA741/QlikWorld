{
 "cells": [
  {
   "cell_type": "markdown",
   "metadata": {},
   "source": [
    "# IaC: Upload csv files to AWS S3 Bucker "
   ]
  },
  {
   "cell_type": "code",
   "execution_count": 4,
   "metadata": {},
   "outputs": [],
   "source": [
    "import logging\n",
    "import boto3\n",
    "from botocore.exceptions import ClientError\n",
    "import os"
   ]
  },
  {
   "cell_type": "code",
   "execution_count": 3,
   "metadata": {},
   "outputs": [
    {
     "name": "stdout",
     "output_type": "stream",
     "text": [
      "Existing buckets:\n",
      "  qlik-subscribers\n"
     ]
    }
   ],
   "source": [
    "# Retrieve the list of existing buckets\n",
    "s3 = boto3.client('s3')\n",
    "response = s3.list_buckets()\n",
    "\n",
    "# Output the bucket names\n",
    "print('Existing buckets:')\n",
    "for bucket in response['Buckets']:\n",
    "    print(f'  {bucket[\"Name\"]}')"
   ]
  },
  {
   "cell_type": "code",
   "execution_count": 14,
   "metadata": {},
   "outputs": [],
   "source": [
    "# Set directory for files to upload\n",
    "directory = r'C:\\Users\\MartinBirkAndreasen\\Desktop\\Jazz\\QlikWorld\\subscription\\to_s3'\n",
    "\n",
    "# Set bucket name\n",
    "bucket = 'qlik-subscribers'"
   ]
  },
  {
   "cell_type": "code",
   "execution_count": 5,
   "metadata": {},
   "outputs": [],
   "source": [
    "def upload_file(file_name, bucket, object_name=None):\n",
    "    \"\"\"Upload a file to an S3 bucket\n",
    "\n",
    "    :param file_name: File to upload\n",
    "    :param bucket: Bucket to upload to\n",
    "    :param object_name: S3 object name. If not specified then file_name is used\n",
    "    :return: True if file was uploaded, else False\n",
    "    \"\"\"\n",
    "\n",
    "    # If S3 object_name was not specified, use file_name\n",
    "    if object_name is None:\n",
    "        object_name = os.path.basename(file_name)\n",
    "\n",
    "    # Upload the file\n",
    "    s3_client = boto3.client('s3')\n",
    "    try:\n",
    "        response = s3_client.upload_file(file_name, bucket, object_name)\n",
    "    except ClientError as e:\n",
    "        logging.error(e)\n",
    "        return False\n",
    "    return True"
   ]
  },
  {
   "cell_type": "code",
   "execution_count": 13,
   "metadata": {},
   "outputs": [
    {
     "name": "stdout",
     "output_type": "stream",
     "text": [
      "C:\\Users\\MartinBirkAndreasen\\Desktop\\Jazz\\QlikWorld\\subscription\\to_s3\\customer_cases.csv\n",
      "C:\\Users\\MartinBirkAndreasen\\Desktop\\Jazz\\QlikWorld\\subscription\\to_s3\\dim_customer.csv\n",
      "C:\\Users\\MartinBirkAndreasen\\Desktop\\Jazz\\QlikWorld\\subscription\\to_s3\\dim_geo.csv\n",
      "C:\\Users\\MartinBirkAndreasen\\Desktop\\Jazz\\QlikWorld\\subscription\\to_s3\\fact_active.csv\n",
      "C:\\Users\\MartinBirkAndreasen\\Desktop\\Jazz\\QlikWorld\\subscription\\to_s3\\fact_product.csv\n",
      "C:\\Users\\MartinBirkAndreasen\\Desktop\\Jazz\\QlikWorld\\subscription\\to_s3\\product_info.csv\n"
     ]
    }
   ],
   "source": [
    "# Upload all files in directory\n",
    "\n",
    "for filename in os.listdir(directory):\n",
    "    f = os.path.join(directory, filename)\n",
    "    print(f)\n",
    "    upload_file(f, bucket, object_name=None)"
   ]
  }
 ],
 "metadata": {
  "kernelspec": {
   "display_name": "Python 3.8.13 ('snow')",
   "language": "python",
   "name": "python3"
  },
  "language_info": {
   "codemirror_mode": {
    "name": "ipython",
    "version": 3
   },
   "file_extension": ".py",
   "mimetype": "text/x-python",
   "name": "python",
   "nbconvert_exporter": "python",
   "pygments_lexer": "ipython3",
   "version": "3.8.13"
  },
  "orig_nbformat": 4,
  "vscode": {
   "interpreter": {
    "hash": "a069db779853e84c2bbf20da06b810cb2fccf47e81d52c78f12e9dba3ac483c9"
   }
  }
 },
 "nbformat": 4,
 "nbformat_minor": 2
}
